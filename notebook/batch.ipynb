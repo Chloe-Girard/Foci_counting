{
 "cells": [
  {
   "cell_type": "code",
   "execution_count": 1,
   "metadata": {},
   "outputs": [],
   "source": [
    "import sys\n",
    "sys.path.insert(0, \"/Users/Espenel/Desktop/Mini-Grant-Image-analysis/2018/Chloe/ChromosomeDetectionChloe/utils\")"
   ]
  },
  {
   "cell_type": "code",
   "execution_count": 2,
   "metadata": {},
   "outputs": [],
   "source": [
    "from chromosome_dsb import *"
   ]
  },
  {
   "cell_type": "code",
   "execution_count": 3,
   "metadata": {},
   "outputs": [],
   "source": [
    "# Ignore warnings in notebook\n",
    "import warnings\n",
    "warnings.filterwarnings('ignore')"
   ]
  },
  {
   "cell_type": "code",
   "execution_count": 4,
   "metadata": {},
   "outputs": [],
   "source": [
    "# Some more magic so that the notebook will reload external python modules;\n",
    "# see http://stackoverflow.com/questions/1907993/autoreload-of-modules-in-ipython\n",
    "%load_ext autoreload\n",
    "%autoreload 2\n",
    "%reload_ext autoreload"
   ]
  },
  {
   "cell_type": "code",
   "execution_count": 5,
   "metadata": {},
   "outputs": [],
   "source": [
    "import numpy as np\n",
    "import javabridge\n",
    "import bioformats\n",
    "from sklearn.externals import joblib\n",
    "import os"
   ]
  },
  {
   "cell_type": "code",
   "execution_count": 6,
   "metadata": {},
   "outputs": [],
   "source": [
    "%matplotlib inline\n",
    "import matplotlib.pyplot as plt\n",
    "plt.rcParams['figure.figsize'] = 8,8\n",
    "plt.rcParams['image.interpolation'] = 'nearest'\n",
    "plt.rcParams['image.cmap'] = 'gray'"
   ]
  },
  {
   "cell_type": "code",
   "execution_count": 7,
   "metadata": {},
   "outputs": [],
   "source": [
    "path = '/Users/Espenel/Desktop/Mini-Grant-Image-analysis/2018/Chloe/data_chloe/test_batch/'"
   ]
  },
  {
   "cell_type": "code",
   "execution_count": 8,
   "metadata": {},
   "outputs": [],
   "source": [
    "folder_batch = load_data.directory_batch(path)"
   ]
  },
  {
   "cell_type": "code",
   "execution_count": 9,
   "metadata": {},
   "outputs": [],
   "source": [
    "javabridge.start_vm(class_path=bioformats.JARS)"
   ]
  },
  {
   "cell_type": "code",
   "execution_count": 10,
   "metadata": {},
   "outputs": [],
   "source": [
    "position, time_point = load_data.stage_position(path)\n",
    "skelete = load_data.skeleton_coord(position,time_point)"
   ]
  },
  {
   "cell_type": "code",
   "execution_count": 11,
   "metadata": {},
   "outputs": [
    {
     "data": {
      "text/plain": [
       "<matplotlib.legend.Legend at 0x12f4b5898>"
      ]
     },
     "execution_count": 11,
     "metadata": {},
     "output_type": "execute_result"
    },
    {
     "data": {
      "image/png": "[encoded data removed]",
      "text/plain": [
       "<Figure size 720x720 with 1 Axes>"
      ]
     },
     "metadata": {},
     "output_type": "display_data"
    }
   ],
   "source": [
    "data = np.concatenate((position,time_point[:, np.newaxis]), axis=1)\n",
    "sort_data = data[np.argsort(data[:,2])]\n",
    "\n",
    "fig, ax = plt.subplots(1, 1, figsize=(10, 10))\n",
    "ax.scatter(skelete[:,0], skelete[:,1], s=0.5)\n",
    "stage_pos = ax.scatter(sort_data[:,0], sort_data[:,1])\n",
    "plt.legend([stage_pos], [\"Stage Positions\"], loc=0,fontsize='large')"
   ]
  },
  {
   "cell_type": "code",
   "execution_count": 12,
   "metadata": {},
   "outputs": [],
   "source": [
    "parameters = {\n",
    "# Size kernel for background substraction, should be a little larger than the object of interest\n",
    "'back_sub_ch1' : 5,\n",
    "'back_sub_ch2' : 5,\n",
    "'back_sub_ch3' : 20,\n",
    "# LOCI detection:\n",
    "# Smallest object (in pixels) to be detected\n",
    "'smaller' : 1,\n",
    "# Largest object to be detected\n",
    "'largest' : 5,\n",
    "# Threshold above which to look for\n",
    "'thresh' : 10000       \n",
    "}"
   ]
  },
  {
   "cell_type": "raw",
   "metadata": {},
   "source": [
    "# Size kernel for background substraction, should be a little larger than the object of interest\n",
    "back_sub_ch1 = 5\n",
    "back_sub_ch2 = 5\n",
    "back_sub_ch3 = 20\n",
    "# LOCI detection:\n",
    "# Smallest object (in pixels) to be detected\n",
    "smaller = 1\n",
    "# Largest object to be detected\n",
    "largest = 5\n",
    "# Threshold above which to look for\n",
    "thresh = 80"
   ]
  },
  {
   "cell_type": "code",
   "execution_count": 13,
   "metadata": {},
   "outputs": [],
   "source": [
    "clf = joblib.load(\"/Users/Espenel/Desktop/Mini-Grant-Image-analysis/2018/Chloe/ChromosomeDetectionChloe/clf_scaler/clf\")\n",
    "scaler = joblib.load(\"/Users/Espenel/Desktop/Mini-Grant-Image-analysis/2018/Chloe/ChromosomeDetectionChloe/clf_scaler/scaler\")"
   ]
  },
  {
   "cell_type": "code",
   "execution_count": null,
   "metadata": {},
   "outputs": [
    {
     "name": "stdout",
     "output_type": "stream",
     "text": [
      "\n",
      "\n",
      "###############################\n",
      "working on /Users/Espenel/Desktop/Mini-Grant-Image-analysis/2018/Chloe/data_chloe/test_batch/2017-04-12_RAD51-HTP3_cku80-exo1_002_visit_18_D3D_ALX.dv\n",
      "opening data\n",
      "searching nucleus\n",
      "substract background\n",
      "finding FOCI\n",
      "image binarization\n",
      "It took 354.86446809768677sec to analyse it\n",
      "\n",
      "\n",
      "###############################\n",
      "working on /Users/Espenel/Desktop/Mini-Grant-Image-analysis/2018/Chloe/data_chloe/test_batch/2017-04-12_RAD51-HTP3_cku80-exo1_002_visit_1_D3D_ALX.dv\n",
      "opening data\n",
      "searching nucleus\n",
      "It took 297.3766870498657sec to analyse it\n",
      "\n",
      "\n",
      "###############################\n",
      "working on /Users/Espenel/Desktop/Mini-Grant-Image-analysis/2018/Chloe/data_chloe/test_batch/2017-04-12_RAD51-HTP3_cku80-exo1_002_visit_13_D3D_ALX.dv\n",
      "opening data\n",
      "searching nucleus\n",
      "substract background\n",
      "finding FOCI\n",
      "image binarization\n"
     ]
    }
   ],
   "source": [
    "batch.batch_analysis(path, clf, scaler, folder_batch, skelete, parameters=parameters)"
   ]
  },
  {
   "cell_type": "code",
   "execution_count": null,
   "metadata": {},
   "outputs": [],
   "source": [
    "import pandas as pd"
   ]
  },
  {
   "cell_type": "code",
   "execution_count": null,
   "metadata": {},
   "outputs": [],
   "source": [
    "df = pd.read_csv(\"/Users/Espenel/Desktop/Mini-Grant-Image-analysis/2018/Chloe/data_chloe/test_batch/result_test_batch_04_16_2019_1/full.csv\")"
   ]
  },
  {
   "cell_type": "code",
   "execution_count": null,
   "metadata": {},
   "outputs": [],
   "source": [
    "ax1 = df.plot.scatter(x='distance from tip in um',\n",
    "                      y='Numbers of FOCI',\n",
    "                      c='DarkBlue')"
   ]
  },
  {
   "cell_type": "code",
   "execution_count": null,
   "metadata": {},
   "outputs": [],
   "source": []
  }
 ],
 "metadata": {
  "kernelspec": {
   "display_name": "Python 3",
   "language": "python",
   "name": "python3"
  },
  "language_info": {
   "codemirror_mode": {
    "name": "ipython",
    "version": 3
   },
   "file_extension": ".py",
   "mimetype": "text/x-python",
   "name": "python",
   "nbconvert_exporter": "python",
   "pygments_lexer": "ipython3",
   "version": "3.6.6"
  }
 },
 "nbformat": 4,
 "nbformat_minor": 2
}
